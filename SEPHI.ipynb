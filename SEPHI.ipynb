{
  "nbformat": 4,
  "nbformat_minor": 0,
  "metadata": {
    "colab": {
      "provenance": [],
      "authorship_tag": "ABX9TyNFeWVJMr0ibL0UodRNj5PT",
      "include_colab_link": true
    },
    "kernelspec": {
      "name": "python3",
      "display_name": "Python 3"
    },
    "language_info": {
      "name": "python"
    }
  },
  "cells": [
    {
      "cell_type": "markdown",
      "metadata": {
        "id": "view-in-github",
        "colab_type": "text"
      },
      "source": [
        "<a href=\"https://colab.research.google.com/github/SattikBhaumik/Analyzing_Exoplanets/blob/main/SEPHI.ipynb\" target=\"_parent\"><img src=\"https://colab.research.google.com/assets/colab-badge.svg\" alt=\"Open In Colab\"/></a>"
      ]
    },
    {
      "cell_type": "code",
      "source": [
        "import numpy as np\n",
        "\n",
        "# Placeholder functions for μ1,mp and μ2,mp based on relative mass (mp)\n",
        "def rp_for_100_percent_MgSiO3(mp):\n",
        "    # This function should return the relative radius for a composition of 100% MgSiO3 based on mp\n",
        "    #return some_function_to_determine_mu1_mp(mp)\n",
        "    if mp == 3.15:\n",
        "        return 1.458\n",
        "    elif mp == 13.7:\n",
        "        return 2.121\n",
        "    elif mp == 16.1:\n",
        "        return 2.213\n",
        "\n",
        "def rp_for_50_percent_H2O_50_percent_MgSiO3(mp):\n",
        "    # This function should return the relative radius for a 50% H2O and 50% MgSiO3 composition based on mp\n",
        "    #return some_function_to_determine_mu2_mp(mp)\n",
        "    if mp == 3.15:\n",
        "        return 1.708\n",
        "    elif mp == 13.7:\n",
        "        return 2.498\n",
        "    elif mp == 16.1:\n",
        "        return 2.608\n",
        "\n",
        "\n",
        "def telluric_likelihood(rp, mp):\n",
        "    \"\"\"\n",
        "    Calculate the likelihood of a planet being telluric based on its relative radius and mass.\n",
        "\n",
        "    :param rp: Relative radius of the planet (Rp/R⊕)\n",
        "    :param mp: Relative mass of the planet (Mp/M⊕)\n",
        "    :return: Likelihood of the planet being telluric\n",
        "\n",
        "    \"\"\"\n",
        "    # Assuming values for μ1,mp and μ2,mp based on the chemical composition\n",
        "    mu1_mp = rp_for_100_percent_MgSiO3(mp)  # Function to define μ1,mp based on mp\n",
        "    mu2_mp = rp_for_50_percent_H2O_50_percent_MgSiO3(mp)  # Function to define μ2,mp based on mp\n",
        "\n",
        "    # Standard deviation σ1,mp calculation\n",
        "    sigma1_mp = (mu2_mp - mu1_mp) / 3.0\n",
        "\n",
        "    if rp <= mu1_mp:\n",
        "        return 1\n",
        "    elif mu1_mp < rp < mu2_mp:\n",
        "        return np.exp(-0.5 * ((rp - mu1_mp) / sigma1_mp) ** 2)\n",
        "    elif mu2_mp <= rp:\n",
        "        return 0\n",
        "\n",
        "\n",
        "#Kepler-504 b\n",
        "likelihood = telluric_likelihood(1.59, 3.15)\n",
        "print(f\"The likelihood of Kepler-504 b being telluric is: {likelihood}\")\n",
        "\n",
        "#Kepler-315 b\n",
        "likelihood = telluric_likelihood(5.22, 13.7)\n",
        "print(f\"The likelihood of Kepler-315 b being telluric is: {likelihood}\")\n",
        "\n",
        "#Kepler-315 c\n",
        "likelihood = telluric_likelihood(3.07, 16.1)\n",
        "print(f\"The likelihood of Kepler-315 c being telluric is: {likelihood}\")\n",
        "\n",
        "\"\"\"\n",
        "Kepler-504 b:\n",
        "\n",
        "mp = M_504b / M_Earth = 3.15\n",
        "rp = R_504b / R_Earth = 1.628\n",
        "µ_(1,mp) = rp_(100 per cent MgSiO3) = 1.4447e+0 = 1.4447\n",
        "µ_(2,mp) = rp_(50 per cent MgSiO3 − 50 per cent H2O) = 1.7274e+0 = 1.7274\n",
        "sigma_(1,mp) = (µ_(2,mp) - µ_(1,mp))/3 =\n",
        "\n",
        "\n",
        "Kepler-315 b:\n",
        "\n",
        "mp = M_315b / M_Earth = 13.7\n",
        "rp = R_315b / R_Earth = 5.22\n",
        "µ_(1,mp) = rp_(100 per cent MgSiO3) = 2.0666e+0 = 2.0666\n",
        "µ_(2,mp) = rp_(50 per cent MgSiO3 − 50 per cent H2O) = 2.4548e+0 = 2.4548\n",
        "sigma_(1,mp) = (µ_(2,mp) - µ_(1,mp))/3 =\n",
        "\n",
        "\n",
        "Kepler-315 c:\n",
        "\n",
        "mp = M_315c / M_Earth = 16.1\n",
        "rp = R_315c / R_Earth = 3.07\n",
        "µ_(1,mp) = rp_(100 per cent MgSiO3) = 2.1646e+0 = 2.1646\n",
        "µ_(2,mp) = rp_(50 per cent MgSiO3 − 50 per cent H2O) = 2.5716e+0 = 2.5716\n",
        "sigma_(1,mp) = (µ_(2,mp) - µ_(1,mp))/3 =\n",
        "\n",
        "CHECK FOR THIS ONE WHETHER APPROXIMATION SELF-CONFIRMS LIKELIHOOD FUNCTION\n",
        "\"\"\""
      ],
      "metadata": {
        "colab": {
          "base_uri": "https://localhost:8080/",
          "height": 178
        },
        "id": "Afsv9LNYe-vT",
        "outputId": "912437b3-6dec-4b8f-c9e0-5862f87bed3a"
      },
      "execution_count": null,
      "outputs": [
        {
          "output_type": "stream",
          "name": "stdout",
          "text": [
            "The likelihood of Kepler-504 b being telluric is: 0.28521043578498045\n",
            "The likelihood of Kepler-315 b being telluric is: 0\n",
            "The likelihood of Kepler-315 c being telluric is: 0\n"
          ]
        },
        {
          "output_type": "execute_result",
          "data": {
            "text/plain": [
              "'\\nKepler-504 b:\\n\\nmp = M_504b / M_Earth = 3.15\\nrp = R_504b / R_Earth = 1.628\\nµ_(1,mp) = rp_(100 per cent MgSiO3) = 1.4447e+0 = 1.4447\\nµ_(2,mp) = rp_(50 per cent MgSiO3 − 50 per cent H2O) = 1.7274e+0 = 1.7274\\nsigma_(1,mp) = (µ_(2,mp) - µ_(1,mp))/3 =\\n\\n\\nKepler-315 b:\\n\\nmp = M_315b / M_Earth = 13.7\\nrp = R_315b / R_Earth = 5.22\\nµ_(1,mp) = rp_(100 per cent MgSiO3) = 2.0666e+0 = 2.0666\\nµ_(2,mp) = rp_(50 per cent MgSiO3 − 50 per cent H2O) = 2.4548e+0 = 2.4548\\nsigma_(1,mp) = (µ_(2,mp) - µ_(1,mp))/3 =\\n\\n\\nKepler-315 c:\\n\\nmp = M_315c / M_Earth = 16.1\\nrp = R_315c / R_Earth = 3.07\\nµ_(1,mp) = rp_(100 per cent MgSiO3) = 2.1646e+0 = 2.1646\\nµ_(2,mp) = rp_(50 per cent MgSiO3 − 50 per cent H2O) = 2.5716e+0 = 2.5716\\nsigma_(1,mp) = (µ_(2,mp) - µ_(1,mp))/3 =\\n\\nCHECK FOR THIS ONE WHETHER APPROXIMATION SELF-CONFIRMS LIKELIHOOD FUNCTION\\n'"
            ],
            "application/vnd.google.colaboratory.intrinsic+json": {
              "type": "string"
            }
          },
          "metadata": {},
          "execution_count": 1
        }
      ]
    },
    {
      "cell_type": "code",
      "source": [
        "def relative_gravity(radius_relative, mass_relative):\n",
        "    # Gravitational constant is not needed for relative gravity\n",
        "    # because it will cancel out when comparing to Earth\n",
        "    G=6.6743e-11\n",
        "    relative_g = (G * (mass_relative)) / (radius_relative**2)\n",
        "    relative_escape_velocity = (relative_g * radius_relative)**0.5\n",
        "\n",
        "    if relative_escape_velocity < 1:\n",
        "        sigma = 1/3\n",
        "        return np.exp((-0.5)*(((relative_escape_velocity - 1)/sigma)**2))\n",
        "\n",
        "    elif relative_escape_velocity >= 1:\n",
        "        sigma = 7.66/3\n",
        "        return np.exp((-0.5)*(((relative_escape_velocity - 1)/sigma)**2))\n",
        "\n",
        "    #elif relative_escape_velocity >= 8.66:\n",
        "        #return 0\n",
        "\n",
        "\n",
        "#Kepler-504 b\n",
        "value = relative_gravity(1.59, 3.15)\n",
        "print(f\"The relative gravity of Kepler-504 b is: {value} times that of Earth's gravity\")\n",
        "\n",
        "#Kepler-315 b\n",
        "value = relative_gravity(5.22, 13.7)\n",
        "print(f\"The relative gravity of Kepler-315 b is: {value} times that of Earth's gravity\")\n",
        "\n",
        "#Kepler-315 c\n",
        "likelihood = telluric_likelihood(3.07, 16.1)\n",
        "value = relative_gravity(3.07,16.1)\n",
        "print(f\"The relative gravity of Kepler-315 c is: {value} times that of Earth's gravity\")"
      ],
      "metadata": {
        "id": "fyRu7A9iQIJe",
        "colab": {
          "base_uri": "https://localhost:8080/"
        },
        "outputId": "35430d8a-e708-44ad-cf85-ba36aa9c1163"
      },
      "execution_count": null,
      "outputs": [
        {
          "output_type": "stream",
          "name": "stdout",
          "text": [
            "The relative gravity of Kepler-504 b is: 0.011110146270968258 times that of Earth's gravity\n",
            "The relative gravity of Kepler-315 b is: 0.011110319868451065 times that of Earth's gravity\n",
            "The relative gravity of Kepler-315 c is: 0.011110867205107379 times that of Earth's gravity\n"
          ]
        }
      ]
    },
    {
      "cell_type": "code",
      "source": [
        "import numpy as np\n",
        "\n",
        "\n",
        "def HZ_stellar_fluxes(T_eff, S_eff_sol, a, b, c, d):\n",
        "\n",
        "    T_star_relative = T_eff - 5780.0\n",
        "\n",
        "    S_eff = S_eff_sol + a*T_star_relative + b*(T_star_relative**2) + c*(T_star_relative**3) + d*(T_star_relative**4)\n",
        "\n",
        "    return S_eff\n",
        "\n",
        "\n",
        "def surface_liquid_water(R_star, T_eff, semi_major_axis, reference):\n",
        "\n",
        "\n",
        "    if reference == 'Kepler-504':\n",
        "\n",
        "        const = 5.670374419e-8\n",
        "        L = 4 * np.pi * (R_star**2) * const * (T_eff**4)\n",
        "        L_sol = 3.84e26\n",
        "        L_n = L / L_sol\n",
        "\n",
        "        D1_new = np.sqrt(L_n / float(HZ_stellar_fluxes(T_eff, 1.776, 2.136e-4, 2.533e-8, -1.332e-11, -3.097e-15)))\n",
        "        S_eff_5ME_D2 = np.sqrt(L_n / float(HZ_stellar_fluxes(T_eff, 1.188, 1.433e-4, 1.707e-8, -8.968e-12, -2.084e-15)))\n",
        "        D3_new = np.sqrt(L_n / float(HZ_stellar_fluxes(T_eff, 0.356, 6.171e-5, 1.698e-9, -3.198e-12, -5.575e-16)))\n",
        "        D4_new = np.sqrt(L_n / float(HZ_stellar_fluxes(T_eff, 0.32, 5.547e-5, 1.526e-9, -2.874e-12, -5.011e-16)))\n",
        "\n",
        "        if semi_major_axis < D1_new:\n",
        "            print(\"Hot Zone: Water in gas form\")\n",
        "            print(\"ITZ:\", S_eff_5ME_D2)\n",
        "            print(\"OTZ:\", D3_new)\n",
        "            return 0\n",
        "\n",
        "        elif D1_new <= semi_major_axis < S_eff_5ME_D2:\n",
        "            print(\"Inner Transition Zone\")\n",
        "            mu_31 = S_eff_5ME_D2\n",
        "            sigma_31 = (S_eff_5ME_D2 - D1_new) / 3.0\n",
        "            return np.exp((-1/2)*(((semi_major_axis - mu_31)**2)/sigma_31))\n",
        "\n",
        "        elif S_eff_5ME_D2 <= semi_major_axis <= D3_new:\n",
        "            print(\"Green Zone\")\n",
        "            return 1\n",
        "\n",
        "        elif D3_new < semi_major_axis < D4_new:\n",
        "            mu_32 = D3_new\n",
        "            sigma_32 = (D4_new - D3_new) / 3.0\n",
        "            return np.exp((-1/2)*(((semi_major_axis - mu_32)**2)/sigma_32))\n",
        "\n",
        "        elif semi_major_axis > D4_new:\n",
        "            print(\"Cold Zone\")\n",
        "            return 0\n",
        "\n",
        "\n",
        "    elif reference == 'Kepler-315':\n",
        "\n",
        "        const = 5.670374419 * (10**(-8))\n",
        "        L = 4 * np.pi * (R_star**2) * const * (T_eff**4)\n",
        "        L_sol = 3.84 * (10**26)\n",
        "        L_n = L / L_sol\n",
        "\n",
        "        D1_new = np.sqrt(L_n / HZ_stellar_fluxes(T_eff, 1.776, 2.136e-4, 2.533e-8, -1.332e-11, -3.097e-15))\n",
        "        D2_new = np.sqrt(L_n / HZ_stellar_fluxes(T_eff, 1.107, 1.332e-4, 1.58e-8, -8.308e-12, -1.931e-15))\n",
        "        D3_new = np.sqrt(L_n / HZ_stellar_fluxes(T_eff, 0.356, 6.171e-5, 1.698e-9, -3.198e-12, -5.575e-16))\n",
        "        D4_new = np.sqrt(L_n / HZ_stellar_fluxes(T_eff, 0.32, 5.547e-5, 1.526e-9, -2.874e-12, -5.011e-16))\n",
        "\n",
        "        if semi_major_axis < D1_new:\n",
        "            print(\"Hot Zone: Water in gas form\")\n",
        "            print(\"ITZ:\", D2_new)\n",
        "            print(\"OTZ:\", D3_new)\n",
        "            return 0\n",
        "\n",
        "        elif D1_new <= semi_major_axis < D2_new:\n",
        "            print(\"Inner Transition Zone\")\n",
        "            print(\"ITZ:\", D2_new)\n",
        "            print(\"OTZ:\", D3_new)\n",
        "            mu_31 = D2_new\n",
        "            sigma_31 = (D2_new - D1_new) / 3.0\n",
        "            return np.exp((-1/2)*(((semi_major_axis - mu_31)**2)/sigma_31))\n",
        "\n",
        "        elif D2_new <= semi_major_axis <= D3_new:\n",
        "            print(\"Green Zone\")\n",
        "            return 1\n",
        "\n",
        "        elif D3_new < semi_major_axis < D4_new:\n",
        "            mu_32 = D3_new\n",
        "            sigma_32 = (D4_new - D3_new) / 3.0\n",
        "            return np.exp((-1/2)*(((semi_major_axis - mu_32)**2)/sigma_32))\n",
        "\n",
        "        elif semi_major_axis > D4_new:\n",
        "            print(\"Cold Zone\")\n",
        "            return 0\n",
        "\n",
        "#Kepler-504 b\n",
        "surface_liquid_water_likelihood = surface_liquid_water(0.4184490 * 695700000, 3600.0, 0.0646, 'Kepler-504')\n",
        "print(f\"Orbital Radius: 0.0646 AU, The likelihood of Kepler-504 b having liquid water on its surface is: {surface_liquid_water_likelihood}\\n\")\n",
        "\n",
        "#Kepler-315 b\n",
        "surface_liquid_water_likelihood = surface_liquid_water(1.0006 * 695700000, 5783.0, 0.402, 'Kepler-315')\n",
        "print(f\"Orbital Radius: 0.402 AU, The likelihood of Kepler-315 b having liquid water on its surface is: {surface_liquid_water_likelihood}\\n\")\n",
        "\n",
        "#Kepler-315 c\n",
        "surface_liquid_water_likelihood = surface_liquid_water(1.0006 * 695700000, 5783.0, 0.791, 'Kepler-315')\n",
        "print(f\"Orbital Radius: 0.791 AU, The likelihood of Kepler-315 c having liquid water on its surface is: {surface_liquid_water_likelihood}\\n\")"
      ],
      "metadata": {
        "colab": {
          "base_uri": "https://localhost:8080/"
        },
        "id": "lP8lL4f4QIMB",
        "outputId": "58cddb3c-85cf-4942-fdf8-e595b642346a"
      },
      "execution_count": null,
      "outputs": [
        {
          "output_type": "stream",
          "name": "stdout",
          "text": [
            "Hot Zone: Water in gas form\n",
            "ITZ: 0.16231433889416835\n",
            "OTZ: 0.3249923106537783\n",
            "Orbital Radius: 0.0646 AU, The likelihood of Kepler-504 b having liquid water on its surface is: 0\n",
            "\n",
            "Hot Zone: Water in gas form\n",
            "ITZ: 0.9529757855508869\n",
            "OTZ: 1.6803361592146018\n",
            "Orbital Radius: 0.402 AU, The likelihood of Kepler-315 b having liquid water on its surface is: 0\n",
            "\n",
            "Inner Transition Zone\n",
            "ITZ: 0.9529757855508869\n",
            "OTZ: 1.6803361592146018\n",
            "Orbital Radius: 0.791 AU, The likelihood of Kepler-315 c having liquid water on its surface is: 0.8218629419341515\n",
            "\n"
          ]
        }
      ]
    },
    {
      "cell_type": "code",
      "source": [
        "def magnetic_field(rp, mp, reference):\n",
        "\n",
        "    beta1 = rp\n",
        "    beta2 = mp\n",
        "    alpha = 1\n",
        "\n",
        "    if reference == 'Kepler-504':\n",
        "        rho_0n = 1\n",
        "        radius_0n = beta1\n",
        "        F_0n = beta1\n",
        "        M_n = alpha * (rho_0n**(1/2)) * (radius_0n**(10/3)) * (F_0n**(1/3))\n",
        "\n",
        "        if M_n < 1:\n",
        "            mu_4 = 1.0\n",
        "            sigma_4 = 1/3.0\n",
        "            return np.exp((-0.5)*((M_n - mu_4)/sigma_4))\n",
        "\n",
        "        elif M_n >= 1:\n",
        "            return 1\n",
        "\n",
        "    elif reference == 'Kepler-315':\n",
        "        rho_0n = 0.16\n",
        "        radius_0n = 16*beta1*beta2\n",
        "        F_0n = 100*beta1*beta2\n",
        "        M_n = alpha * (rho_0n**(1/2)) * (radius_0n**(10/3)) * (F_0n**(1/3))\n",
        "\n",
        "        if M_n < 1:\n",
        "            mu_4 = 1.0\n",
        "            sigma_4 = 1/3.0\n",
        "            return np.exp((-0.5)*((M_n - mu_4)/sigma_4))\n",
        "\n",
        "        elif M_n >= 1:\n",
        "            return 1\n",
        "\n",
        "#Kepler-504 b\n",
        "magentic_field_likelihood = magnetic_field(1.59, 3.15, 'Kepler-504')\n",
        "print(f\"The likelihood of Kepler-504 b having liquid water on its surface is: {magentic_field_likelihood}\")\n",
        "\n",
        "#Kepler-315 b\n",
        "magentic_field_likelihood = magnetic_field(5.22, 13.7, 'Kepler-315')\n",
        "print(f\"The likelihood of Kepler-315 b having liquid water on its surface is: {magentic_field_likelihood}\")\n",
        "\n",
        "#Kepler-315 c\n",
        "likelihood = telluric_likelihood(3.07, 16.1)\n",
        "value = relative_gravity(3.07,16.1)\n",
        "surface_liquid_water_likelihood = surface_liquid_water(1.0006 * 695700000, 5783.0, 0.791, 'Kepler-315')\n",
        "magentic_field_likelihood = magnetic_field(3.07, 16.1, 'Kepler-315')\n",
        "print(f\"The likelihood of Kepler-315 c having liquid water on its surface is: {magentic_field_likelihood}\")"
      ],
      "metadata": {
        "id": "7jeQuUBDUgOs",
        "colab": {
          "base_uri": "https://localhost:8080/"
        },
        "outputId": "83be988b-2692-42d7-c44f-c98493760a65"
      },
      "execution_count": null,
      "outputs": [
        {
          "output_type": "stream",
          "name": "stdout",
          "text": [
            "The likelihood of Kepler-504 b having liquid water on its surface is: 1\n",
            "The likelihood of Kepler-315 b having liquid water on its surface is: 1\n",
            "Inner Transition Zone\n",
            "ITZ: 0.9529757855508869\n",
            "OTZ: 1.6803361592146018\n",
            "The likelihood of Kepler-315 c having liquid water on its surface is: 1\n"
          ]
        }
      ]
    },
    {
      "cell_type": "code",
      "source": [
        "#Kepler-504 b\n",
        "telluricity_504b = telluric_likelihood(1.59, 3.15)\n",
        "relative_gravity_value_504b = relative_gravity(1.59, 3.15)\n",
        "surface_liquid_water_likelihood_504b = surface_liquid_water(0.4184490 * 695700000, 3600.0, 0.0646, 'Kepler-504')\n",
        "magentic_field_likelihood_504b = magnetic_field(1.59, 3.15, 'Kepler-504')\n",
        "\n",
        "SEPHI_504b = (telluricity_504b * relative_gravity_value_504b * surface_liquid_water_likelihood_504b * magentic_field_likelihood_504b)**(1/4)\n",
        "print(\"SEPHI for Kepler-504 b = \", SEPHI_504b, '\\n')\n",
        "\n",
        "#Kepler-315 b\n",
        "telluricity_315b = telluric_likelihood(5.22, 13.7)\n",
        "relative_gravity_value_315b = relative_gravity(5.22, 13.7)\n",
        "surface_liquid_water_likelihood_315b = surface_liquid_water(1.0006 * 695700000, 5783.0, 0.402, 'Kepler-315')\n",
        "magentic_field_likelihood_315b = magnetic_field(5.22, 13.7, 'Kepler-315')\n",
        "\n",
        "SEPHI_315b = (telluricity_315b * relative_gravity_value_315b * surface_liquid_water_likelihood_315b * magentic_field_likelihood_315b)**(1/4)\n",
        "print(\"SEPHI for Kepler-315 b = \", SEPHI_315b, '\\n')\n",
        "\n",
        "#Kepler-315 c\n",
        "telluricity_315c = telluric_likelihood(3.07, 16.1)\n",
        "relative_gravity_value_315c = relative_gravity(3.07,16.1)\n",
        "surface_liquid_water_likelihood_315c = surface_liquid_water(1.0006 * 695700000, 5783.0, 0.791, 'Kepler-315')\n",
        "magentic_field_likelihood_315c = magnetic_field(3.07, 16.1, 'Kepler-315')\n",
        "\n",
        "SEPHI_315c = (telluricity_315c * relative_gravity_value_315c * surface_liquid_water_likelihood_315c * magentic_field_likelihood_315c)**(1/4)\n",
        "print(\"SEPHI for Kepler-315 c = \", SEPHI_315c)"
      ],
      "metadata": {
        "id": "x3IzlIY0QIOX",
        "colab": {
          "base_uri": "https://localhost:8080/"
        },
        "outputId": "d91b02d1-edd1-48a1-97aa-1561760627cd"
      },
      "execution_count": null,
      "outputs": [
        {
          "output_type": "stream",
          "name": "stdout",
          "text": [
            "Hot Zone: Water in gas form\n",
            "ITZ: 0.16231433889416835\n",
            "OTZ: 0.3249923106537783\n",
            "SEPHI for Kepler-504 b =  0.0 \n",
            "\n",
            "Hot Zone: Water in gas form\n",
            "ITZ: 0.9529757855508869\n",
            "OTZ: 1.6803361592146018\n",
            "SEPHI for Kepler-315 b =  0.0 \n",
            "\n",
            "Inner Transition Zone\n",
            "ITZ: 0.9529757855508869\n",
            "OTZ: 1.6803361592146018\n",
            "SEPHI for Kepler-315 c =  0.0\n"
          ]
        }
      ]
    }
  ]
}