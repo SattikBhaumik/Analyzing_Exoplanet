{
  "nbformat": 4,
  "nbformat_minor": 0,
  "metadata": {
    "colab": {
      "name": "Exoplanet_Main_Code.ipynb",
      "provenance": [],
      "collapsed_sections": [
        "9ahsbCsxEeGj",
        "BkB_Ib_MKM0G"
      ],
      "include_colab_link": true
    },
    "kernelspec": {
      "name": "python3",
      "display_name": "Python 3"
    },
    "language_info": {
      "name": "python"
    }
  },
  "cells": [
    {
      "cell_type": "markdown",
      "metadata": {
        "id": "view-in-github",
        "colab_type": "text"
      },
      "source": [
        "<a href=\"https://colab.research.google.com/github/SattikBhaumik/Analyzing_Exoplanets/blob/main/Exoplanet_Main_Code.ipynb\" target=\"_parent\"><img src=\"https://colab.research.google.com/assets/colab-badge.svg\" alt=\"Open In Colab\"/></a>"
      ]
    },
    {
      "cell_type": "markdown",
      "source": [
        "# Lightcurve Finder\n",
        "\n",
        "\n"
      ],
      "metadata": {
        "id": "9ahsbCsxEeGj"
      }
    },
    {
      "cell_type": "code",
      "metadata": {
        "id": "Ef-I8qkczm_D"
      },
      "source": [
        "!pip install lightkurve"
      ],
      "execution_count": null,
      "outputs": []
    },
    {
      "cell_type": "code",
      "metadata": {
        "id": "pmVaZJu_zyQu"
      },
      "source": [
        "import lightkurve as lk\n",
        "import matplotlib.pyplot as plt\n",
        "import numpy as np\n",
        "import math"
      ],
      "execution_count": null,
      "outputs": []
    },
    {
      "cell_type": "code",
      "metadata": {
        "id": "-PzaGl4hz9Lf"
      },
      "source": [
        "#uer-input Star Name\n",
        "N_star = input('Enter Kepler Star name:')\n",
        "\n",
        "#downloading all the observations till date\n",
        "data = lk.search_lightcurve(N_star, cadence='long')\n",
        "lc_all = data.download_all()             "
      ],
      "execution_count": null,
      "outputs": []
    },
    {
      "cell_type": "code",
      "metadata": {
        "id": "dRTudaRjpJEY"
      },
      "source": [
        "#printing the whole dataset for observation quarters, years etc.\n",
        "data  "
      ],
      "execution_count": null,
      "outputs": []
    },
    {
      "cell_type": "code",
      "metadata": {
        "id": "eaVHCkBO0a5X"
      },
      "source": [
        "#plotting the whole data      \n",
        "lc_all.plot() "
      ],
      "execution_count": null,
      "outputs": []
    },
    {
      "cell_type": "code",
      "metadata": {
        "id": "oJuh2cNX1-2o"
      },
      "source": [
        "#plotting the flux versus time data after stitching and flattening all datasets \n",
        "lc = lc_all.stitch().flatten(window_length=1001).remove_outliers()\n",
        "lc.plot()"
      ],
      "execution_count": null,
      "outputs": []
    },
    {
      "cell_type": "code",
      "metadata": {
        "id": "7sRlUoccLtiZ"
      },
      "source": [
        "lc.flux"
      ],
      "execution_count": null,
      "outputs": []
    },
    {
      "cell_type": "code",
      "metadata": {
        "id": "CttIWRO4LT6x"
      },
      "source": [
        "#note down the F_trans value for later use\n",
        "F_trans = np.amin(lc.flux)\n",
        "F_trans"
      ],
      "execution_count": null,
      "outputs": []
    },
    {
      "cell_type": "code",
      "metadata": {
        "id": "PsThB1Hd2Z8_"
      },
      "source": [
        "#creating array for searching period of exoplanet\n",
        "period = np.linspace(1, 20, 10000)  "
      ],
      "execution_count": null,
      "outputs": []
    },
    {
      "cell_type": "code",
      "metadata": {
        "id": "WzWtrslSCcVL"
      },
      "source": [
        "#plotting the BoxLeastSqaures Periodogram\n",
        "bls = lc.to_periodogram(method='bls', period=period, frequency_factor=500)\n",
        "bls.plot()"
      ],
      "execution_count": null,
      "outputs": []
    },
    {
      "cell_type": "code",
      "metadata": {
        "id": "A6By8azwUqAC"
      },
      "source": [
        "#finding period from bls periodogram and transit depth and duratin for masking\n",
        "planet_period = bls.period_at_max_power \n",
        "planet_t = bls.transit_time_at_max_power \n",
        "planet_d = bls.duration_at_max_power\n",
        "\n",
        "#print planet orbital period, note it down for later use\n",
        "planet_period"
      ],
      "execution_count": null,
      "outputs": []
    },
    {
      "cell_type": "code",
      "metadata": {
        "id": "o5lou0UoWqAR"
      },
      "source": [
        "#checking if the period is correct by using to get a folded light-curve\n",
        "ax = lc.fold(period=planet_period, epoch_time=planet_t).scatter()\n",
        "ax.set_xlim(-5, 5)"
      ],
      "execution_count": null,
      "outputs": []
    },
    {
      "cell_type": "code",
      "metadata": {
        "id": "_NFXrgxjfuui"
      },
      "source": [
        "# Create a cadence mask using the BLS parameters\n",
        "planet_mask = bls.get_transit_mask(period=planet_period, transit_time=planet_t, duration=planet_d)\n",
        "\n",
        "#creating masked light-curve for additional transit curves\n",
        "masked_lc = lc[~planet_mask]\n",
        "ax = masked_lc.scatter()\n",
        "lc[planet_mask].scatter(ax=ax, c='r', label='Masked')"
      ],
      "execution_count": null,
      "outputs": []
    },
    {
      "cell_type": "code",
      "metadata": {
        "id": "JXmuf6L1fu4_"
      },
      "source": [
        "# Create a BLS model using the BLS parameters\n",
        "planet_model = bls.get_transit_model(period=planet_period, transit_time=planet_t,  duration=planet_d)\n",
        "\n",
        "#using the model we plot the folded light curve\n",
        "ax = lc.fold(planet_period, planet_t).scatter()\n",
        "planet_model.fold(planet_period, planet_t).plot(ax=ax, c='r', lw=2)\n",
        "ax.set_xlim(-5, 5)"
      ],
      "execution_count": null,
      "outputs": []
    },
    {
      "cell_type": "code",
      "metadata": {
        "id": "NBNxgYKvhJCY"
      },
      "source": [
        "# we will now look for another planet using BoxLeastSqaures method\n",
        "# we will look for further peaks in the periodogram plot indicative of a second planet\n",
        "period = np.linspace(1, 300, 10000)\n",
        "bls_new = masked_lc.to_periodogram('bls', period=period, frequency_factor=500)\n",
        "bls_new.plot()"
      ],
      "execution_count": null,
      "outputs": []
    },
    {
      "cell_type": "code",
      "metadata": {
        "id": "xFGBXeycjU3U"
      },
      "source": [
        "#If we get a distinctive peak, then we have another planet in that system \n",
        "planet_new_period = bls_new.period_at_max_power\n",
        "planet_new_t = bls_new.transit_time_at_max_power\n",
        "planet_new_d = bls_new.duration_at_max_power\n",
        "\n",
        "# print the orbital period value\n",
        "planet_new_period"
      ],
      "execution_count": null,
      "outputs": []
    },
    {
      "cell_type": "code",
      "metadata": {
        "id": "qKOuC5Hxjsve"
      },
      "source": [
        "#we plot the folded light-curve for this new planet\n",
        "ax_new = masked_lc.fold(planet_new_period, planet_new_t).scatter()\n",
        "masked_lc.fold(planet_new_period, planet_new_t).bin(.1).plot(ax=ax_new, c='b', lw=2, label='Binned Flux')  #binned using data points for 0.1 days\n",
        "ax_new.set_xlim(-5, 5)"
      ],
      "execution_count": null,
      "outputs": []
    },
    {
      "cell_type": "code",
      "metadata": {
        "id": "f7kiM9MElTzW"
      },
      "source": [
        "# Create a BLS model using the BLS parameters for the new planet\n",
        "planet_new_model = bls.get_transit_model(period=planet_new_period, transit_time=planet_new_t, duration=planet_new_d)\n",
        "\n",
        "\n",
        "#using the model and the previous one, we plot both into a single plot \n",
        "ax_new = lc.scatter()\n",
        "planet_model.plot(ax=ax_new, c='b', label='Planet 1 Transit Data')\n",
        "planet_new_model.plot(ax=ax_new, c='r', label='Planet 2 Transit Data')"
      ],
      "execution_count": null,
      "outputs": []
    },
    {
      "cell_type": "code",
      "metadata": {
        "id": "y4iDhnBEbK6X"
      },
      "source": [
        "F = np.amin(planet_new_model.flux)\n",
        "F"
      ],
      "execution_count": null,
      "outputs": []
    },
    {
      "cell_type": "markdown",
      "metadata": {
        "id": "BkB_Ib_MKM0G"
      },
      "source": [
        "# Finding Planet Parameters"
      ]
    },
    {
      "cell_type": "code",
      "metadata": {
        "id": "IjPfZJKCKKXv"
      },
      "source": [
        "#constants\n",
        "G=6.6743e-11\n",
        "au=1.496e+11\n",
        "M_earth=5.97216787e+24\n",
        "M_jup=1.8981246e+27\n",
        "M_sun=1.98840987e+30\n",
        "R_earth=6378100\n",
        "R_jup=71492000\n",
        "R_sun=695700000\n",
        "import math\n",
        "pi= math.pi\n",
        "al= 0.07\n",
        "F_tot= 1\n",
        "\n",
        "#Earth Data\n",
        "E_rho= 5.51       #density in g cm^-3\n",
        "E_ve= 11.19       #escape velocity in km s^-1\n",
        "E_t= 288.00       #temp in K\n",
        "\n",
        "#weight exponents\n",
        "w_R= 0.57         #radius parameter\n",
        "w_Rho= 1.07       #density parameter\n",
        "w_VE= 0.70        #escape velocity parameter\n",
        "w_T= 5.58         #surface temperature parameter\n"
      ],
      "execution_count": null,
      "outputs": []
    },
    {
      "cell_type": "code",
      "metadata": {
        "id": "dhzADdIQMu_f"
      },
      "source": [
        "#taking user input of Star data from database\n",
        "def STAR():                                        \n",
        "  global M_star\n",
        "  M_star=input('Enter Star Mass in terms of Sun:')\n",
        "  M_star = float(M_star)*M_sun\n",
        "  global R_star\n",
        "  R_star=input('Enter Star Radius in Sun:')\n",
        "  R_star = float(R_star)*R_sun\n",
        "  global T_star\n",
        "  T_star=input('Enter Star Temperature in K:')\n",
        "  T_star = float(T_star)\n",
        "\n",
        "STAR()"
      ],
      "execution_count": null,
      "outputs": []
    },
    {
      "cell_type": "code",
      "metadata": {
        "id": "9PXIU8-6Khv8"
      },
      "source": [
        "#taking user input of Planet data after TOPCAT analysis\n",
        "def PLANET():\n",
        "  global P\n",
        "  P = input('Enter Planet Orbital Period in days:')\n",
        "  P = float(P)*86400 \n",
        "  global F_Trans\n",
        "  F_Trans = input('Enter Planet Flux:')\n",
        "  F_Trans = float(F_Trans)\n",
        "  global Mass\n",
        "  Mass= input('Enter Planet Mass in terms of Earth:')\n",
        "  Mass= float(Mass)*M_earth\n",
        "\n",
        "PLANET()"
      ],
      "execution_count": null,
      "outputs": []
    },
    {
      "cell_type": "code",
      "metadata": {
        "id": "TtmDT_kUgUs3"
      },
      "source": [
        "#calculating planet components\n",
        "def Exoplanet():\n",
        "  global a,a1\n",
        "  a=math.pow((G*M_star*P*P/(4*pi*pi)), (1/3))\n",
        "  a1=a/au\n",
        "\n",
        "  global R,R1,R2\n",
        "  R=float(R_star*math.sqrt(1-(F_Trans/F_tot)))\n",
        "  R1=float(R/R_earth)\n",
        "  R2=float(R/R_jup)\n",
        "\n",
        "  global T,TC\n",
        "  T=float(T_star*math.pow(((1-al)*R_star**2/a**2), (1/4)))\n",
        "  T=T/math.sqrt(2)\n",
        "  TC=float(T-273.15)\n",
        "\n",
        "  global M1,M2\n",
        "  M1=float(Mass/M_jup)            #in terms of jup\n",
        "  M2=float(Mass/M_earth)          #in terms of earth\n",
        "\n",
        "  global Vol, Dens, Dens1      #check density conversion\n",
        "  Vol=float((4/3)*pi*R*R*R)\n",
        "  Dens1=float(Mass/Vol)            #kg m3    \n",
        "  Dens=Dens1/1000               #g cm3\n",
        "\n",
        "  global Vems, VeKms\n",
        "  Vems= float(math.sqrt(2*G*Mass/R))\n",
        "  VeKms= Vems/1000\n",
        "  \n",
        "Exoplanet()"
      ],
      "execution_count": null,
      "outputs": []
    },
    {
      "cell_type": "code",
      "metadata": {
        "id": "yKfS9_CHL9o1"
      },
      "source": [
        "#calculating ESI parameters\n",
        "ESI_R = math.pow((1-math.fabs((R-R_earth)/(R+R_earth))), w_R)              #radius parameter\n",
        "ESI_Rho = math.pow((1-math.fabs((Dens-E_rho)/(Dens+E_rho))), w_Rho)        #density parameter\n",
        "ESI_VE = math.pow((1-math.fabs((VeKms-E_ve)/(VeKms+E_ve))), w_VE)          #escape velocity parameter\n",
        "ESI_T = math.pow((1-math.fabs((T-E_t)/(T+E_t))), w_T)                      #temperature parameter\n",
        "\n",
        "#calculating final ESI's\n",
        "ESI_Int = math.sqrt(ESI_R*ESI_Rho)         #interior ESI\n",
        "ESI_Sur = math.sqrt(ESI_VE*ESI_T)          #surface ESI\n",
        "ESI_Global = math.sqrt(ESI_Int*ESI_Sur)    #final ESI determining habitability"
      ],
      "execution_count": null,
      "outputs": []
    },
    {
      "cell_type": "code",
      "metadata": {
        "id": "uZiTv_WXL9ss"
      },
      "source": [
        "#printing \n",
        "#planet data\n",
        "print('Planet Orbital Radius in m:',a)\n",
        "print('Planet Orbital Radius in AU:', a1)\n",
        "\n",
        "print('Planet Radius in m:', R)\n",
        "print('Planet Radius in terms of Earth:', R1)\n",
        "print('Planet Radius in terms of Jupiter:', R2)\n",
        "\n",
        "print('Planet Temperature in kelvin:', T)\n",
        "print('Planet Temperature in celsius:', TC)\n",
        "\n",
        "print('Planet Mass in kg:', Mass)\n",
        "print('Planet Mass in terms of Jupiter:', M1)\n",
        "print('Planet Mass in terms of Earth:', M2)\n",
        "\n",
        "print('Planet Density in kg m^-3:', Dens1)\n",
        "print('Planet Density in g cm^-3:', Dens) #check \n",
        "\n",
        "print('Escape Velocity of Planet in m/s:', Vems)\n",
        "print('Escape Velocity of Planet in km/s:', VeKms)\n",
        "\n",
        "#ESI data\n",
        "print('Interior ESI:', ESI_Int)\n",
        "print('Surface ESI:', ESI_Sur)\n",
        "print('Global ESI:', ESI_Global)"
      ],
      "execution_count": null,
      "outputs": []
    }
  ]
}